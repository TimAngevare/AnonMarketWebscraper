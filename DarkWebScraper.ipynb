{
 "cells": [
  {
   "cell_type": "markdown",
   "metadata": {},
   "source": [
    "Group 6:\n",
    "- Tim Angevare\n",
    "- Pjottr van Zee\n",
    "- Tion Zijlstra\n",
    "- Lilla Mikovics\n",
    "- Pascal Bakker\n",
    "- Cristian Haidău"
   ]
  },
  {
   "cell_type": "markdown",
   "metadata": {},
   "source": [
    "https://github.com/TimAngevare/AnonMarketWebscraper"
   ]
  },
  {
   "cell_type": "code",
   "execution_count": 1,
   "metadata": {},
   "outputs": [],
   "source": [
    "import requests\n",
    "from requests.exceptions import ProxyError\n",
    "from time import sleep\n",
    "from bs4 import BeautifulSoup"
   ]
  },
  {
   "cell_type": "markdown",
   "metadata": {},
   "source": [
    "Set up the proxy and see if it works. A tor service was installed on the computer on port 9050. We need to set this up in the code and connect to access the dark web"
   ]
  },
  {
   "cell_type": "code",
   "execution_count": 2,
   "metadata": {},
   "outputs": [
    {
     "name": "stdout",
     "output_type": "stream",
     "text": [
      "Your ip: 2001:67c:2564:a315:b0e7:600e:f3ec:f88\n",
      "Your spoofed ip: 133\n"
     ]
    }
   ],
   "source": [
    "proxies = {\n",
    "    'http' : 'socks5h://127.0.0.1:9050',\n",
    "    'https' : 'socks5h://127.0.0.1:9050'\n",
    "}\n",
    "ip = requests.get('https://ident.me').text\n",
    "\n",
    "spoofedIP = requests.get('https://ident.me',proxies=proxies).text\n",
    "\n",
    "print('Your ip: ' + ip.split('.')[-1] + '\\nYour spoofed ip: ' + spoofedIP.split('.')[-1])"
   ]
  },
  {
   "cell_type": "markdown",
   "metadata": {},
   "source": [
    "Are we configured to use Tor?"
   ]
  },
  {
   "cell_type": "code",
   "execution_count": 3,
   "metadata": {},
   "outputs": [
    {
     "data": {
      "text/plain": "True"
     },
     "execution_count": 3,
     "metadata": {},
     "output_type": "execute_result"
    }
   ],
   "source": [
    "requests.get('https://check.torproject.org/', proxies=proxies).text.find(\"Congratulations. This browser is configured to use Tor.\") != -1"
   ]
  },
  {
   "cell_type": "markdown",
   "metadata": {},
   "source": [
    "Lets fetch our marketplace Anon market"
   ]
  },
  {
   "cell_type": "code",
   "execution_count": 4,
   "metadata": {},
   "outputs": [],
   "source": [
    "onion_url = 'http://2r7wa5og3ly4umqhmmqqytae6bufl5ql5kz7sorndpqtrkc2ri7tohad.onion'\n",
    "\n",
    "try:\n",
    "    browser = requests.session()\n",
    "    browser.headers = {\n",
    "        'Accept':    'text/html,application/xhtml+xml,application/xml;q=0.9,*/*;q=0.8',\n",
    "'Accept-Encoding':    'gzip, deflate',\n",
    "'Accept-Language':    'en-us,en;q=0.5',\n",
    "'User-Agent':         'Mozilla/5.0 (Windows NT 6.1; rv:24.0) Gecko/20100101 Firefox/24.0'\n",
    "    }\n",
    "    response = browser.get(onion_url, proxies=proxies, timeout=30, allow_redirects=True)\n",
    "    while True:\n",
    "        sleep(1)\n",
    "        if response.text.find(\"DDoS\") == -1:\n",
    "            break\n",
    "        else:\n",
    "            print(response.history)\n",
    "    \n",
    "    # Process the response here\n",
    "except ProxyError as e:\n",
    "    print(f\"Error: {e}\")"
   ]
  },
  {
   "cell_type": "markdown",
   "metadata": {},
   "source": [
    "Add the different catergories of drugs"
   ]
  },
  {
   "cell_type": "code",
   "execution_count": 5,
   "metadata": {},
   "outputs": [],
   "source": [
    "categories_list = []\n",
    "\n",
    "soup = BeautifulSoup(response.content, 'html.parser')\n",
    "drug_categories = soup.find_all('div', class_=\"subcat_1\")\n",
    "\n",
    "for div in drug_categories:\n",
    "    if div.text.find('View all') == -1:\n",
    "        category = div.text.strip()\n",
    "        a_tag = div.parent\n",
    "        url = onion_url + a_tag['href']\n",
    "        dic = {\"name\" : category, \"url\" : url, \"pages\" : 0, \"posts\" : []}\n",
    "        categories_list.append(dic)"
   ]
  },
  {
   "cell_type": "markdown",
   "metadata": {},
   "source": [
    "Create a function to scrape the information of each post on the page"
   ]
  },
  {
   "cell_type": "code",
   "execution_count": 6,
   "metadata": {},
   "outputs": [],
   "source": [
    "def scrape_page(page, category):\n",
    "    post_section = page.find('div', class_='items')\n",
    "    posts = post_section.find_all('div', class_='item')\n",
    "    for post in posts:\n",
    "        url = category[\"url\"] + post.contents[1]['href']\n",
    "        seller = post.find('a', class_='seller').text.strip()\n",
    "        title = post.find('div', class_='title').text.strip()\n",
    "        price = post.find('div', class_='price').text.strip().split(' ')[0]\n",
    "        tbody = post.find('table')\n",
    "        stars = tbody.find('div', class_='stars2')['style'].split(':')[-1]\n",
    "        stars = round(float(stars[:-1]))\n",
    "        post_data = {'title' : title, 'url' : url, 'seller' : seller, 'price' : price, 'stars' : stars}\n",
    "        category['posts'].append(post_data)"
   ]
  },
  {
   "cell_type": "markdown",
   "metadata": {},
   "source": [
    "Now we scrape the categories for info and add the page numbers"
   ]
  },
  {
   "cell_type": "code",
   "execution_count": null,
   "metadata": {
    "pycharm": {
     "is_executing": true
    }
   },
   "outputs": [],
   "source": [
    "for category in categories_list: \n",
    "        print(category[\"name\"])\n",
    "        response = browser.get(category[\"url\"], proxies=proxies, timeout=20, allow_redirects=False)\n",
    "        soup = BeautifulSoup(response.content, 'html.parser')\n",
    "        category[\"pages\"] = soup.find_all('div', class_='page')[-1].text.strip()\n",
    "        for i in range(1, int(category[\"pages\"]) + 1):\n",
    "            try:\n",
    "                page = browser.get(category[\"url\"] + '/' + str(i) + '/', proxies=proxies, timeout=20, allow_redirects=False)\n",
    "                page = BeautifulSoup(page.content, 'html.parser')\n",
    "                scrape_page(page, category)\n",
    "            except (requests.exceptions.ConnectionError, requests.exceptions.RequestException) as e:\n",
    "                 print(\"ran into a connection issue: \", e)\n",
    "                 sleep(5)\n"
   ]
  },
  {
   "cell_type": "markdown",
   "metadata": {},
   "source": [
    "Lets export it to csv file"
   ]
  },
  {
   "cell_type": "code",
   "execution_count": 28,
   "metadata": {},
   "outputs": [],
   "source": [
    "import pandas as pd\n",
    "\n",
    "transformed_data = []\n",
    "for category in categories_list:\n",
    "    category_name = category['name']\n",
    "    posts = category['posts']\n",
    "    for post in posts:\n",
    "        post_attributes = {\n",
    "            'category': category_name,\n",
    "            'title': post['title'],\n",
    "            'url': post['url'],\n",
    "            'seller': post['seller'],\n",
    "            'price': post['price'],\n",
    "            'rating': post['stars']\n",
    "        }\n",
    "        transformed_data.append(post_attributes)\n",
    "\n",
    "# Create a Pandas DataFrame\n",
    "df = pd.DataFrame(transformed_data)\n",
    "df.to_csv(\"posts.csv\")\n"
   ]
  },
  {
   "cell_type": "code",
   "execution_count": 29,
   "metadata": {},
   "outputs": [],
   "source": [
    "\n",
    "df = pd.read_csv(\"posts.csv\")"
   ]
  },
  {
   "cell_type": "markdown",
   "metadata": {},
   "source": [
    "Clean the price value to take out the , in 1000"
   ]
  },
  {
   "cell_type": "code",
   "execution_count": 42,
   "metadata": {},
   "outputs": [
    {
     "data": {
      "text/html": [
       "<div>\n",
       "<style scoped>\n",
       "    .dataframe tbody tr th:only-of-type {\n",
       "        vertical-align: middle;\n",
       "    }\n",
       "\n",
       "    .dataframe tbody tr th {\n",
       "        vertical-align: top;\n",
       "    }\n",
       "\n",
       "    .dataframe thead th {\n",
       "        text-align: right;\n",
       "    }\n",
       "</style>\n",
       "<table border=\"1\" class=\"dataframe\">\n",
       "  <thead>\n",
       "    <tr style=\"text-align: right;\">\n",
       "      <th></th>\n",
       "      <th>Unnamed: 0</th>\n",
       "      <th>price</th>\n",
       "      <th>rating</th>\n",
       "    </tr>\n",
       "  </thead>\n",
       "  <tbody>\n",
       "    <tr>\n",
       "      <th>count</th>\n",
       "      <td>43862.00000</td>\n",
       "      <td>4.386200e+04</td>\n",
       "      <td>43862.000000</td>\n",
       "    </tr>\n",
       "    <tr>\n",
       "      <th>mean</th>\n",
       "      <td>21930.50000</td>\n",
       "      <td>1.007023e+04</td>\n",
       "      <td>20.755324</td>\n",
       "    </tr>\n",
       "    <tr>\n",
       "      <th>std</th>\n",
       "      <td>12662.01309</td>\n",
       "      <td>9.550558e+05</td>\n",
       "      <td>39.713331</td>\n",
       "    </tr>\n",
       "    <tr>\n",
       "      <th>min</th>\n",
       "      <td>0.00000</td>\n",
       "      <td>5.000000e+00</td>\n",
       "      <td>0.000000</td>\n",
       "    </tr>\n",
       "    <tr>\n",
       "      <th>25%</th>\n",
       "      <td>10965.25000</td>\n",
       "      <td>4.700000e+01</td>\n",
       "      <td>0.000000</td>\n",
       "    </tr>\n",
       "    <tr>\n",
       "      <th>50%</th>\n",
       "      <td>21930.50000</td>\n",
       "      <td>1.245600e+02</td>\n",
       "      <td>0.000000</td>\n",
       "    </tr>\n",
       "    <tr>\n",
       "      <th>75%</th>\n",
       "      <td>32895.75000</td>\n",
       "      <td>3.890000e+02</td>\n",
       "      <td>0.000000</td>\n",
       "    </tr>\n",
       "    <tr>\n",
       "      <th>max</th>\n",
       "      <td>43861.00000</td>\n",
       "      <td>1.000000e+08</td>\n",
       "      <td>100.000000</td>\n",
       "    </tr>\n",
       "  </tbody>\n",
       "</table>\n",
       "</div>"
      ],
      "text/plain": [
       "        Unnamed: 0         price        rating\n",
       "count  43862.00000  4.386200e+04  43862.000000\n",
       "mean   21930.50000  1.007023e+04     20.755324\n",
       "std    12662.01309  9.550558e+05     39.713331\n",
       "min        0.00000  5.000000e+00      0.000000\n",
       "25%    10965.25000  4.700000e+01      0.000000\n",
       "50%    21930.50000  1.245600e+02      0.000000\n",
       "75%    32895.75000  3.890000e+02      0.000000\n",
       "max    43861.00000  1.000000e+08    100.000000"
      ]
     },
     "execution_count": 42,
     "metadata": {},
     "output_type": "execute_result"
    }
   ],
   "source": [
    "df['price'] = df['price'].str.replace(',','')\n",
    "df['price'] = pd.to_numeric(df['price'], errors='coerce')\n",
    "\n",
    "df.describe()"
   ]
  },
  {
   "cell_type": "markdown",
   "metadata": {},
   "source": [
    "Sellers"
   ]
  },
  {
   "cell_type": "code",
   "execution_count": 31,
   "metadata": {},
   "outputs": [
    {
     "data": {
      "text/html": [
       "<div>\n",
       "<style scoped>\n",
       "    .dataframe tbody tr th:only-of-type {\n",
       "        vertical-align: middle;\n",
       "    }\n",
       "\n",
       "    .dataframe tbody tr th {\n",
       "        vertical-align: top;\n",
       "    }\n",
       "\n",
       "    .dataframe thead th {\n",
       "        text-align: right;\n",
       "    }\n",
       "</style>\n",
       "<table border=\"1\" class=\"dataframe\">\n",
       "  <thead>\n",
       "    <tr style=\"text-align: right;\">\n",
       "      <th></th>\n",
       "      <th>name</th>\n",
       "      <th>posts</th>\n",
       "      <th>rating</th>\n",
       "    </tr>\n",
       "  </thead>\n",
       "  <tbody>\n",
       "    <tr>\n",
       "      <th>44</th>\n",
       "      <td>cannabiz</td>\n",
       "      <td>1004</td>\n",
       "      <td>1.494024</td>\n",
       "    </tr>\n",
       "    <tr>\n",
       "      <th>195</th>\n",
       "      <td>sportlife</td>\n",
       "      <td>687</td>\n",
       "      <td>10.681223</td>\n",
       "    </tr>\n",
       "    <tr>\n",
       "      <th>361</th>\n",
       "      <td>strainpirate</td>\n",
       "      <td>658</td>\n",
       "      <td>50.322188</td>\n",
       "    </tr>\n",
       "    <tr>\n",
       "      <th>126</th>\n",
       "      <td>nextlevel</td>\n",
       "      <td>551</td>\n",
       "      <td>11.542650</td>\n",
       "    </tr>\n",
       "    <tr>\n",
       "      <th>53</th>\n",
       "      <td>donalddrugs</td>\n",
       "      <td>534</td>\n",
       "      <td>30.102996</td>\n",
       "    </tr>\n",
       "    <tr>\n",
       "      <th>49</th>\n",
       "      <td>cindicator</td>\n",
       "      <td>526</td>\n",
       "      <td>0.760456</td>\n",
       "    </tr>\n",
       "    <tr>\n",
       "      <th>210</th>\n",
       "      <td>coffeeshop</td>\n",
       "      <td>490</td>\n",
       "      <td>13.948980</td>\n",
       "    </tr>\n",
       "    <tr>\n",
       "      <th>22</th>\n",
       "      <td>britishstandard</td>\n",
       "      <td>411</td>\n",
       "      <td>34.257908</td>\n",
       "    </tr>\n",
       "    <tr>\n",
       "      <th>136</th>\n",
       "      <td>digitalsin</td>\n",
       "      <td>373</td>\n",
       "      <td>2.144772</td>\n",
       "    </tr>\n",
       "    <tr>\n",
       "      <th>71</th>\n",
       "      <td>mastermeds</td>\n",
       "      <td>373</td>\n",
       "      <td>0.000000</td>\n",
       "    </tr>\n",
       "    <tr>\n",
       "      <th>456</th>\n",
       "      <td>pressurepacks</td>\n",
       "      <td>355</td>\n",
       "      <td>21.577465</td>\n",
       "    </tr>\n",
       "    <tr>\n",
       "      <th>362</th>\n",
       "      <td>pygmalion</td>\n",
       "      <td>334</td>\n",
       "      <td>17.640719</td>\n",
       "    </tr>\n",
       "    <tr>\n",
       "      <th>66</th>\n",
       "      <td>hqdrugs</td>\n",
       "      <td>316</td>\n",
       "      <td>0.000000</td>\n",
       "    </tr>\n",
       "    <tr>\n",
       "      <th>32</th>\n",
       "      <td>topquality</td>\n",
       "      <td>300</td>\n",
       "      <td>24.333333</td>\n",
       "    </tr>\n",
       "    <tr>\n",
       "      <th>188</th>\n",
       "      <td>factory</td>\n",
       "      <td>291</td>\n",
       "      <td>12.405498</td>\n",
       "    </tr>\n",
       "    <tr>\n",
       "      <th>187</th>\n",
       "      <td>germanmasters</td>\n",
       "      <td>289</td>\n",
       "      <td>24.968858</td>\n",
       "    </tr>\n",
       "    <tr>\n",
       "      <th>47</th>\n",
       "      <td>jamesocean</td>\n",
       "      <td>285</td>\n",
       "      <td>5.263158</td>\n",
       "    </tr>\n",
       "    <tr>\n",
       "      <th>157</th>\n",
       "      <td>weareamsterdam</td>\n",
       "      <td>284</td>\n",
       "      <td>54.855634</td>\n",
       "    </tr>\n",
       "    <tr>\n",
       "      <th>198</th>\n",
       "      <td>drugsuk123</td>\n",
       "      <td>278</td>\n",
       "      <td>17.615108</td>\n",
       "    </tr>\n",
       "    <tr>\n",
       "      <th>222</th>\n",
       "      <td>moetchandon</td>\n",
       "      <td>269</td>\n",
       "      <td>13.791822</td>\n",
       "    </tr>\n",
       "  </tbody>\n",
       "</table>\n",
       "</div>"
      ],
      "text/plain": [
       "                name  posts     rating\n",
       "44          cannabiz   1004   1.494024\n",
       "195        sportlife    687  10.681223\n",
       "361     strainpirate    658  50.322188\n",
       "126        nextlevel    551  11.542650\n",
       "53       donalddrugs    534  30.102996\n",
       "49        cindicator    526   0.760456\n",
       "210       coffeeshop    490  13.948980\n",
       "22   britishstandard    411  34.257908\n",
       "136       digitalsin    373   2.144772\n",
       "71        mastermeds    373   0.000000\n",
       "456    pressurepacks    355  21.577465\n",
       "362        pygmalion    334  17.640719\n",
       "66           hqdrugs    316   0.000000\n",
       "32        topquality    300  24.333333\n",
       "188          factory    291  12.405498\n",
       "187    germanmasters    289  24.968858\n",
       "47        jamesocean    285   5.263158\n",
       "157   weareamsterdam    284  54.855634\n",
       "198       drugsuk123    278  17.615108\n",
       "222      moetchandon    269  13.791822"
      ]
     },
     "execution_count": 31,
     "metadata": {},
     "output_type": "execute_result"
    }
   ],
   "source": [
    "seller_df = {\n",
    "    'name' : [],\n",
    "    'posts' : [],\n",
    "    'rating' : []\n",
    "}\n",
    "\n",
    "for sellerName in df['seller'].unique():\n",
    "    seller_df['name'].append(sellerName)\n",
    "    posts = df[df.seller == sellerName]\n",
    "    postsCount = len(posts)\n",
    "    seller_df['posts'].append(postsCount)\n",
    "    avgReview = posts['rating'].mean()\n",
    "    seller_df['rating'].append(avgReview)\n",
    "\n",
    "seller_df = pd.DataFrame(seller_df).sort_values(by=\"posts\", ascending=False)\n",
    "\n",
    "seller_df.head(20)"
   ]
  },
  {
   "cell_type": "markdown",
   "metadata": {},
   "source": [
    "Hereby I believe the police should further investigate the top 3 sellers identified above. Taking them down would have to most impact in the drug world as they are responsible for the most volume."
   ]
  },
  {
   "cell_type": "markdown",
   "metadata": {},
   "source": [
    "Start making graphs"
   ]
  },
  {
   "cell_type": "code",
   "execution_count": 36,
   "metadata": {},
   "outputs": [
    {
     "data": {
      "image/png": "[encoded data removed]",
      "text/plain": [
       "<Figure size 432x288 with 1 Axes>"
      ]
     },
     "metadata": {},
     "output_type": "display_data"
    }
   ],
   "source": [
    "import matplotlib.pyplot as plt\n",
    "\n",
    "seller_small = seller_df.head(25)\n",
    "y = seller_small['posts']\n",
    "labels = seller_small['name']\n",
    "\n",
    "plt.pie(y, labels = labels)\n",
    "plt.title(\"sellers on marketplace\")\n",
    "plt.show() "
   ]
  },
  {
   "cell_type": "code",
   "execution_count": 38,
   "metadata": {},
   "outputs": [
    {
     "data": {
      "image/png": "[encoded data removed]",
      "text/plain": [
       "<Figure size 720x432 with 1 Axes>"
      ]
     },
     "metadata": {
      "needs_background": "light"
     },
     "output_type": "display_data"
    }
   ],
   "source": [
    "data = []\n",
    "categories = []\n",
    "for cat in df['category'].unique():\n",
    "    posts = df[df['category'] == cat]\n",
    "    price = posts['price']\n",
    "    price = price[price < 1000]\n",
    "    data.append(price)\n",
    "    categories.append(cat)\n",
    "\n",
    "\n",
    "plt.figure(figsize=(10, 6))  # Adjust the figure size as needed\n",
    "plt.boxplot(data, labels=categories)\n",
    "plt.xticks(rotation=90)  # Rotate x-axis labels for better readability\n",
    "plt.xlabel(\"Category\")\n",
    "plt.ylabel(\"Price\")\n",
    "plt.title(\"Boxplot of Prices per Category\")\n",
    "plt.tight_layout()\n",
    "plt.show()"
   ]
  },
  {
   "cell_type": "code",
   "execution_count": 43,
   "metadata": {},
   "outputs": [
    {
     "data": {
      "image/png": "[encoded data removed]",
      "text/plain": [
       "<Figure size 432x288 with 1 Axes>"
      ]
     },
     "metadata": {},
     "output_type": "display_data"
    }
   ],
   "source": [
    "count = []\n",
    "for i in data:\n",
    "    count.append(len(i))\n",
    "plt.pie(count, labels = categories)\n",
    "plt.title(\"postings on drug category\")\n",
    "plt.show() \n"
   ]
  },
  {
   "cell_type": "markdown",
   "source": [
    "What surprised us the most in general is that the dark web is not only a place to purchase illegal goods but also for legal ones. This analysis was done on drugs, but the same marketplace also contains courses for finance. Forged clothes (2nd link) were also something we did not expect to have a marketplace, as we believed that this could also be sold on the clearnet. Lastly, it was interesting to see that alcohol still has a place on the black market.\n",
    "\n",
    "- http://2r7wa5og3ly4umqhmmqqytae6bufl5ql5kz7sorndpqtrkc2ri7tohad.onion/product/ELMPnqQjPCfeiEZixwLepxdBP5KKnlvi\n",
    "- http://2r7wa5og3ly4umqhmmqqytae6bufl5ql5kz7sorndpqtrkc2ri7tohad.onion/product/gGXwg9Wt0KBkMbAQ94AMvaEOlTptCKlY\n",
    "- http://2r7wa5og3ly4umqhmmqqytae6bufl5ql5kz7sorndpqtrkc2ri7tohad.onion/product/CTnLMQqnc0XSduJNtrd3UM11A2vu0yqa"
   ],
   "metadata": {
    "collapsed": false
   }
  },
  {
   "cell_type": "markdown",
   "metadata": {},
   "source": [
    "What was found, is that although cannabis has become legal in a lot of countries, it is still the biggest by number of postings. Out guess is that due to an easy manufacturing and lower risk with retrospect to hard drugs it is the easiest to export. Shortcomings were found in that on the posts there is no field for quantity. The quantity is usually in the description, but even here there is no exact format for quantity. For example a gram is referred to as 'gram', 'g', 'gr' among others. Because of this the analysis on price does not work. A price of 1000 is an outlier but maybe this is because of 10x as much volume for one posting. It was difficult to find a marketplace to scrape as most require a captcha which can not be bypassed by a bot."
   ]
  },
  {
   "cell_type": "markdown",
   "metadata": {},
   "source": [
    "In conclusion, this code provides a nice basis to further build on. Further research includes selecting a better marketplace for analysis. It would also be helpful to store the summarising statistics so an analysis can be done on how the marketplace develops over time."
   ]
  }
 ],
 "metadata": {
  "kernelspec": {
   "display_name": "Python 3 (ipykernel)",
   "language": "python",
   "name": "python3"
  },
  "language_info": {
   "codemirror_mode": {
    "name": "ipython",
    "version": 3
   },
   "file_extension": ".py",
   "mimetype": "text/x-python",
   "name": "python",
   "nbconvert_exporter": "python",
   "pygments_lexer": "ipython3",
   "version": "3.11.2"
  }
 },
 "nbformat": 4,
 "nbformat_minor": 4
}
